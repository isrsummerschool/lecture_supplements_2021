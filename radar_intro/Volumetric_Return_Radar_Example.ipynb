{
 "cells": [
  {
   "cell_type": "markdown",
   "metadata": {},
   "source": [
    "# **Volumetric Radar Example**\n",
    "For the case of a scattering from a volume like we have in incoherent scatter, we write the radar equation differently. This is because we are scattering off individual electrons that are uniformly distributed across the entire volume within a range gate. As shown in  slide 17 in the second set of introduction to radar, we can define this scattering volume as:  $\\alpha R^2 \\Delta R$.\n",
    "\n",
    "$\\alpha$ is the entire angle within the main lobes of the gain pattern, $G$, $\\approx 4 \\pi A / \\lambda ^2 \\approx 4 \\pi/\\alpha$.   Gain simply represents the \n",
    "fraction of energy that instead of being scattered uniformly in all directions, is being scattered within the one main beam $\\approx \\alpha$.\n",
    "It is important to note that the entire volume within the range gate is doing the scattering.  The delta range corresponds \n",
    "to the range gate that is being analyzed.\n",
    "  \n",
    "\n",
    "\n",
    "The radar equation for volumetric scattering changes to:\n",
    "\n",
    "$$P_r = \\frac{P_t A \\sigma_{volume} \\Delta R}{4\\pi R^2}$$\n",
    "\n",
    "**Note:** that this equation on has an $R^{-2}$ versus an $R^{-4}$. The volume scattering cross section has area per volume units (m$^2$/m$^3$ or 1/m) - in this case it rep#resents the entire number of electrons within a volume - since they all are contrbuting.\n",
    "\n",
    "### **Example One**"
   ]
  },
  {
   "cell_type": "code",
   "execution_count": 1,
   "metadata": {},
   "outputs": [
    {
     "name": "stdout",
     "output_type": "stream",
     "text": [
      "1e-16\n",
      "The received power is: 3.5070312499999993e-14 W\n",
      "1762.8261777456887 0.6818181818181818\n",
      "theta = 0.010176390773405698 0.5830642419911803 Gain 47652.11691498677\n"
     ]
    }
   ],
   "source": [
    "# Peak power transmitted by the Radar, Pt=250KW\n",
    "\n",
    "# Millstone Hill zenith antenna diameter of 67 m\n",
    "# Millstone Hill steerable antenna (MISA) diameter 46 m\n",
    "zenith_radius = 67./2.\n",
    "pi = 3.14159265359\n",
    "# wavelength\n",
    "# c ~ 300000000 m per second\n",
    "c = 300000000.\n",
    "# Millstone frequency = 440 MHz\n",
    "f = 440000000.\n",
    "wavelength = c/f\n",
    "#A = aperature (area)  = π*r**2\n",
    "Aeff = 0.5\n",
    "A =  pi * zenith_radius**2 * Aeff\n",
    "P_t = 2500000\n",
    "alpha = wavelength**2/A\n",
    "delta_range = 10000.\n",
    "\n",
    "\n",
    "\n",
    "range = 100000.\n",
    "\n",
    "volume = alpha * range**2 * delta_range\n",
    "\n",
    "#print (zenith_radius,A, alpha, delta_range, volume)\n",
    "#G = 4π*A/λ**2  \n",
    "#R = range to the scattering object or volume\n",
    "# Cross section of a single electron = 10-28 m2\n",
    "rcs_electron = 10**-28\n",
    "no_el_in_vol = 10**12\n",
    "rcs =rcs_electron * no_el_in_vol * volume\n",
    "rcs_volume = rcs_electron * no_el_in_vol\n",
    "\n",
    "#σ = radar scattering cross section\n",
    "#tau = dwell time  = 1.\n",
    "print(rcs_volume)\n",
    "\n",
    "Pr=P_t*A*rcs_volume*delta_range/(4*pi*range**2)\n",
    " \n",
    "print(\"The received power is: %s W\" % Pr)\n",
    "\n",
    "D = 67.\n",
    "A =   pi * (D/2)**2 *.5\n",
    "print (A, wavelength)\n",
    "theta = (wavelength/D)\n",
    "G = 4*pi*A/(wavelength*wavelength)\n",
    "print ('theta = %s' % theta, theta*57.295779513, 'Gain',G)\n",
    "    "
   ]
  },
  {
   "cell_type": "code",
   "execution_count": 2,
   "metadata": {},
   "outputs": [
    {
     "name": "stdout",
     "output_type": "stream",
     "text": [
      "The noise power is: 1.173551242e-15 W\n",
      "The signal to noise ratio: 29.883920910204274 at a range of 100000.0 m\n"
     ]
    }
   ],
   "source": [
    "# Boltzmann's constant 1.38064852 × 10-23 m2 kg s-2 K-1\n",
    "# BW = 500 kHz\n",
    "# Teff = 170 K. effective system temperature\n",
    "Boltz =  1.38064852\n",
    "Teff = 170\n",
    "BW = 500*1000\n",
    "\n",
    "Pnoise = Boltz*BW*Teff*10**-23\n",
    "\n",
    "print(\"The noise power is: %s W\" % Pnoise)\n",
    "\n",
    "\n",
    "print(\"The signal to noise ratio: %s at a range of %s m\" % (Pr/Pnoise, range))\n",
    "\n"
   ]
  },
  {
   "cell_type": "markdown",
   "metadata": {},
   "source": [
    "## **Exercise**\n",
    "\n",
    "Try this for different ranges!!! How high can you go before S/N is less than 1??"
   ]
  }
 ],
 "metadata": {
  "kernelspec": {
   "display_name": "Python 3",
   "language": "python",
   "name": "python3"
  },
  "language_info": {
   "codemirror_mode": {
    "name": "ipython",
    "version": 3
   },
   "file_extension": ".py",
   "mimetype": "text/x-python",
   "name": "python",
   "nbconvert_exporter": "python",
   "pygments_lexer": "ipython3",
   "version": "3.7.10"
  }
 },
 "nbformat": 4,
 "nbformat_minor": 4
}
