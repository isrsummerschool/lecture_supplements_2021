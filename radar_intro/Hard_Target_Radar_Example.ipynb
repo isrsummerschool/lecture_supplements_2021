{
 "cells": [
  {
   "cell_type": "markdown",
   "metadata": {},
   "source": [
    "# **The Radar Equation**\n",
    "\n",
    "The received power, $P_r$ is given by:\n",
    "$$ P_r = P_t \\frac{4\\pi A}{\\lambda^2}\\frac{1}{4\\pi R^2}\\frac{1}{L}\\sigma\\frac{1}{4 \\pi R^2}A \\tau $$\n",
    "\n",
    "where\n",
    "\n",
    "* $P_t = $ transmit power\n",
    "* $4\\pi = 12.5663706144$\n",
    "* $A =$ aperature (area) **Note:** This $A$ should include a multiplicative term associated with ``aperature efficiency''. Here we use $A_{eff}=0.5$\n",
    "* $R =$ range to the scattering object or volume\n",
    "* $L =$ loss factor e.g. atmospheric loss factors. **Note:** For our purposes we will assume that $L=1$\n",
    "* $\\sigma = $ radar scattering cross section ($m^{-2}$)\n",
    "* $\\tau =$ dwell time. **Note:** For our purposes here we will assume that $\\tau=1$\n"
   ]
  },
  {
   "cell_type": "markdown",
   "metadata": {},
   "source": [
    "## **Example:**\n",
    "Given the radar equation:\n",
    "$$ P_r = P_t \\frac{4\\pi A}{\\lambda^2}\\frac{1}{4\\pi R^2}\\frac{1}{L}\\sigma\\frac{1}{4 \\pi R^2}A \\tau $$\n",
    "\n",
    "We will use the standard radar equation to calculate the received power, $P_r$, after backscattering off a meteor head echo at 110 km. We will then compare $P_r$ to $P_{noise}$ (the power of the noise in the system), defined by:\n",
    "\n",
    "$$P_{noise} = k_B T_{eff} B$$\n",
    "\n",
    "where:\n",
    "* $k_B = 1.38064852e-23 m^2 kg s^{-2} K^{-1}$ is Boltzman's constant.\n",
    "* $T_{eff}$ is the effective system temperature\n",
    "* $B$ is the bandwidth of the receiver\n",
    "\n",
    "Following this example, you will calculate the answer for $P_r$ and $P_{noise}$ for $\\sigma = 3e-5 m^2$ at 100 km, 110 km, and 120 km.\n",
    "\n",
    "#### **Example Calculation**\n",
    "\n",
    "In this example we use a scattering cross section of $\\sigma = .001$ at 110 km for both of the Millstone Hill Zenith and MISA (steerable) antennas and calculate the received power $P_r$ and the noise power, $P_{noise}$ using the following:\n",
    "\n",
    "* Peak power transmitted by the Radar, $P_t=250$ kW\n",
    "* Gain of transmitting Antenna, $G=4000$\n",
    "* Aperture efficiency of the receiving Antenna, $A_{eff} = 0.5$\n",
    "* Radar cross section of the target, $\\sigma = 25 m^2$\n",
    "* Power of minimum detectable signal, $S_{min} = 10^{-12}$ W\n",
    "* Bandwidth of the receiver, $B = 500$ kHz\n",
    "* The diameter of the Millstone Hill Zenith antenna is 67 m\n",
    "* The diameter of the Millstone Hill steerable antenna (MISA) diameter 46 m\n",
    "\n",
    "Calculating the wavelength:"
   ]
  },
  {
   "cell_type": "code",
   "execution_count": 1,
   "metadata": {},
   "outputs": [
    {
     "name": "stdout",
     "output_type": "stream",
     "text": [
      "The wavelength is 0.681818 m\n"
     ]
    }
   ],
   "source": [
    "#c ~ 300000000 m per second\n",
    "c = 300000000.\n",
    "#Millstone frequency = 440 MHz\n",
    "f = 440000000.\n",
    "wavelength = c/f\n",
    "\n",
    "print(\"The wavelength is %f m\" % wavelength)"
   ]
  },
  {
   "cell_type": "markdown",
   "metadata": {},
   "source": [
    "#### Now we calculate the power received from a meteor head echo detected by Millstone zenith antenna"
   ]
  },
  {
   "cell_type": "code",
   "execution_count": 2,
   "metadata": {},
   "outputs": [
    {
     "name": "stdout",
     "output_type": "stream",
     "text": [
      "The received power is: 9.083249210141424e-13 W\n"
     ]
    }
   ],
   "source": [
    "# Transmitted power\n",
    "P_t = 250000.\n",
    "#4*π = 12.5663706144\n",
    "Fourpi = 12.5663706144\n",
    "#λ = wavelength;  f = 440 MHz\n",
    "#A = aperature (area) \n",
    "#Aeff = aperature efficiency \n",
    "#c ~ 300000000 m per second\n",
    "c = 300000000.\n",
    "#Millstone frequency = 440 MHz\n",
    "f = 440000000.\n",
    "wavelength = c/f\n",
    "zenith_radius = 67./2.  # m\n",
    "#R = range to the scattering object or volume\n",
    "#range = 110 km to meteor altitudes\n",
    "range = 110000.\n",
    "#L = loss factor e.g. atmospheric loss factors\n",
    "#σ = radar scattering cross section\n",
    "#tau = dwell time  = 1.\n",
    "pi = 3.14159265359\n",
    "#radar equation = first part =  Power * Gain * Spread\n",
    "\n",
    "#range = 110 km to meteor\n",
    "R = 110000.\n",
    "\n",
    "Aeff = 0.5\n",
    "A =  pi * zenith_radius**2 * Aeff\n",
    "G = (Fourpi*A)/(wavelength**2)\n",
    "# Gain of antenna ~  (4π*A/λ**2)* Aeff \n",
    "# Spread = 1/(4 pi range**2)\n",
    "Spread = 1/(4 * pi * range**2)\n",
    "Part1 = (P_t * 4 * pi * A) / (wavelength**2) * Spread\n",
    "\n",
    "# RCS of meteor head echo - largest  = 10**-3 m**2\n",
    "rcs = .001\n",
    "Part2 = rcs\n",
    "\n",
    "# Part3 = [1/(4*pi*range**2)][A][tau]\n",
    "# assume tau = 1\n",
    "Part3 = (1/(Fourpi*range**2))*A\n",
    "\n",
    "P_r = Part1 * Part2 * Part3\n",
    "\n",
    "print(\"The received power is: %s W\" % P_r)\n",
    "\n"
   ]
  },
  {
   "cell_type": "markdown",
   "metadata": {},
   "source": [
    "#### Now we calculate the noise power"
   ]
  },
  {
   "cell_type": "code",
   "execution_count": 3,
   "metadata": {},
   "outputs": [
    {
     "name": "stdout",
     "output_type": "stream",
     "text": [
      "The noise power is: 1.173551242e-15 W\n"
     ]
    }
   ],
   "source": [
    "# Boltzmann's constant 1.38064852 × 10-23 m2 kg s-2 K-1\n",
    "Boltz =  1.38064852*10**-23\n",
    "# Teff = 170 K. effective system temperature\n",
    "Teff = 170\n",
    "# Bandwidth, 500 kHz\n",
    "B = 500000\n",
    "\n",
    "Pnoise = Boltz*B*Teff\n",
    "\n",
    "print(\"The noise power is: %s W\" % Pnoise)\n"
   ]
  },
  {
   "cell_type": "markdown",
   "metadata": {},
   "source": [
    "# **Questions:**\n",
    "\n",
    "Calculate the received power $P_r$ and the noise power $P_{noise}$ for $\\sigma = 3e-5 m^2$ at:\n",
    "* 100 km,\n",
    "* 110 km, and\n",
    "* 120 km."
   ]
  }
 ],
 "metadata": {
  "kernelspec": {
   "display_name": "Python 3",
   "language": "python",
   "name": "python3"
  },
  "language_info": {
   "codemirror_mode": {
    "name": "ipython",
    "version": 3
   },
   "file_extension": ".py",
   "mimetype": "text/x-python",
   "name": "python",
   "nbconvert_exporter": "python",
   "pygments_lexer": "ipython3",
   "version": "3.7.10"
  }
 },
 "nbformat": 4,
 "nbformat_minor": 4
}
