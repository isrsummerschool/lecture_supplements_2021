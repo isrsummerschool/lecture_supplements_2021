{
 "cells": [
  {
   "cell_type": "code",
   "execution_count": 1,
   "metadata": {},
   "outputs": [],
   "source": [
    "%matplotlib inline\n",
    "import datetime\n",
    "import matplotlib.pyplot as plt\n",
    "import matplotlib.dates as mdates\n",
    "import re\n",
    "import h5py\n",
    "import numpy as np\n",
    "import io_utils #custom wrapper for pytables"
   ]
  },
  {
   "cell_type": "code",
   "execution_count": 2,
   "metadata": {},
   "outputs": [],
   "source": [
    "# Download the vector velocity data file that we need to run these examples\n",
    "import os\n",
    "vfilepath='20181231.007_lp_1min-fitcal-vvelsLat-60sec.h5'\n",
    "if not os.path.exists(vfilepath):\n",
    "    import urllib.request\n",
    "    url='https://data.amisr.com/database/dbase_site_media/PFISR/Experiments/20181231.007/DataFiles/20181231.007_lp_1min-fitcal-vvelsLat-60sec.h5'\n",
    "\n",
    "    print('Downloading data file...')\n",
    "    urllib.request.urlretrieve(url,vfilepath)\n",
    "\n",
    "    print('...Done!')"
   ]
  },
  {
   "cell_type": "code",
   "execution_count": 3,
   "metadata": {},
   "outputs": [],
   "source": [
    "#Read velocity files into dictionaries\n",
    "v=io_utils.read_whole_h5file(vfilepath)"
   ]
  },
  {
   "cell_type": "code",
   "execution_count": 4,
   "metadata": {},
   "outputs": [],
   "source": [
    "times=[datetime.datetime(1970,1,1)+datetime.timedelta(seconds=int(t)) for t in v['/Time']['UnixTime'][:,0]]\n",
    "cgm_lat=0.5*(v['/VectorVels']['MagneticLatitude'][:,0]+v['/VectorVels']['MagneticLatitude'][:,1]) #average bin edges to get centers\n",
    "#The Vest array is Nrecords x Nlatitudes x 3 (perp-North, perp-East, parallel)\n",
    "vipn=v['/VectorVels']['Vest'][:,:,0]\n",
    "dvipn=v['/VectorVels']['errVest'][:,:,0]\n",
    "vipe=v['/VectorVels']['Vest'][:,:,1]\n",
    "dvipe=v['/VectorVels']['errVest'][:,:,1]"
   ]
  },
  {
   "cell_type": "code",
   "execution_count": null,
   "metadata": {},
   "outputs": [],
   "source": [
    "plt.rcParams['figure.figsize']=10,10\n",
    "plt.rcParams['font.size']=18\n",
    "fig,axarr=plt.subplots(2,2,sharex=True,sharey=True)\n",
    "\n",
    "vclrs=axarr[0,0].pcolormesh(mdates.date2num(times),cgm_lat,vdat['vipn'],vmin=-1000,vmax=1000,cmap='RdBu_r',shading='nearest')\n",
    "errclrs=axarr[1,0].pcolormesh(mdates.date2num(times),cgm_lat,vdat['dvipn'],vmin=0,vmax=300,cmap='viridis',shading='nearest')\n",
    "\n",
    "vclrs=axarr[0,1].pcolormesh(mdates.date2num(times),cgm_lat,vdat['vipe'],vmin=-1000,vmax=1000,cmap='RdBu_r',shading='nearest')\n",
    "errclrs=axarr[1,1].pcolormesh(mdates.date2num(times),cgm_lat,vdat['dvipe'],vmin=0,vmax=300,cmap='viridis',shading='nearest')\n",
    "\n",
    "axarr[-1,0].set_xlim([mdates.date2num(datetime.datetime(2019,1,1,4,0,0)),mdates.date2num(datetime.datetime(2019,1,1,16,0,0))])\n",
    "axarr[-1,0].set_xticks(np.arange(mdates.date2num(datetime.datetime(2019,1,1,4,0,0)),mdates.date2num(datetime.datetime(2019,1,1,16,0,0)),2.0/24.0))\n",
    "axarr[-1,1].set_xlim([mdates.date2num(datetime.datetime(2019,1,1,4,0,0)),mdates.date2num(datetime.datetime(2019,1,1,16,0,0))])\n",
    "axarr[-1,1].set_xticks(np.arange(mdates.date2num(datetime.datetime(2019,1,1,4,0,0)),mdates.date2num(datetime.datetime(2019,1,1,16,0,0)),2.0/24.0))\n",
    "\n",
    "axarr[-1,0].xaxis.set_major_formatter(mdates.DateFormatter('%H'))\n",
    "axarr[-1,0].set_xlabel('UT')\n",
    "axarr[-1,1].xaxis.set_major_formatter(mdates.DateFormatter('%H'))\n",
    "axarr[-1,1].set_xlabel('UT')\n",
    "\n",
    "axarr[0,0].set_ylabel('CGM Latitude')\n",
    "axarr[1,0].set_ylabel('CGM Latitude')\n",
    "\n",
    "axarr[0,0].set_title('Vector Velocity North')\n",
    "axarr[0,1].set_title('Vector Velocity East')\n",
    "\n",
    "axarr[1,0].set_title('Velocity North Error')\n",
    "axarr[1,1].set_title('Velocity East Error')\n",
    "\n",
    "fig.suptitle('Vector Velocities from Long Pulses on 2019-01-01')\n",
    "\n",
    "box=axarr[0,1].get_position()\n",
    "vcbarax=fig.add_axes([box.x0+box.width+0.01, box.y0, 0.025, box.height])\n",
    "vcb=plt.colorbar(vclrs,cax=vcbarax)\n",
    "vcb.set_label('Velocity (m/s)')\n",
    "\n",
    "box=axarr[1,1].get_position()\n",
    "errcbarax=fig.add_axes([box.x0+box.width+0.01, box.y0, 0.025, box.height])\n",
    "errcb=plt.colorbar(errclrs,cax=errcbarax)\n",
    "errcb.set_label('Error (m/s)')"
   ]
  },
  {
   "cell_type": "code",
   "execution_count": 5,
   "metadata": {},
   "outputs": [],
   "source": [
    "# Download the long pulse file that we need to run these examples\n",
    "import os\n",
    "lpfilepath='20181231.007_lp_1min-fitcal.h5'\n",
    "if not os.path.exists(lpfilepath):\n",
    "    import urllib.request\n",
    "    url='https://data.amisr.com/database/dbase_site_media/PFISR/Experiments/20181231.007/DataFiles/20181231.007_lp_1min-fitcal.h5'\n",
    "\n",
    "    print('Downloading data file...')\n",
    "    urllib.request.urlretrieve(url,lpfilepath)\n",
    "\n",
    "    print('...Done!')"
   ]
  },
  {
   "cell_type": "code",
   "execution_count": 6,
   "metadata": {},
   "outputs": [],
   "source": [
    "# Download the alternating code file that we need to run these examples\n",
    "import os\n",
    "acfilepath='20181231.007_ac_1min-fitcal.h5'\n",
    "if not os.path.exists(acfilepath):\n",
    "    import urllib.request\n",
    "    url='https://data.amisr.com/database/dbase_site_media/PFISR/Experiments/20181231.007/DataFiles/20181231.007_ac_1min-fitcal.h5'\n",
    "\n",
    "    print('Downloading data file...')\n",
    "    urllib.request.urlretrieve(url,acfilepath)\n",
    "\n",
    "    print('...Done!')"
   ]
  },
  {
   "cell_type": "code",
   "execution_count": null,
   "metadata": {},
   "outputs": [],
   "source": []
  }
 ],
 "metadata": {
  "kernelspec": {
   "display_name": "Python 3",
   "language": "python",
   "name": "python3"
  },
  "language_info": {
   "codemirror_mode": {
    "name": "ipython",
    "version": 3
   },
   "file_extension": ".py",
   "mimetype": "text/x-python",
   "name": "python",
   "nbconvert_exporter": "python",
   "pygments_lexer": "ipython3",
   "version": "3.7.6"
  }
 },
 "nbformat": 4,
 "nbformat_minor": 4
}
