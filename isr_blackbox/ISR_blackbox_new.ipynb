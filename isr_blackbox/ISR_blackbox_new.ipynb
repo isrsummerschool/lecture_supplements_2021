{
 "cells": [
  {
   "cell_type": "markdown",
   "metadata": {},
   "source": [
    "# Incoherent Scatter Blackbox New Radar Simulator\n",
    "\n",
    "This jupyter notebook runs a gui interface to simulate creating a new ISR radar.  It requires ipywidgets be installed, and the ISR_blackbox module.  The ISR_blackbox code is available in this directory, and <a href=\"ISR_Blackbox.py\">here</a>.\n",
    "    \n",
    "Written by Bill Rideout - brideout@mit.edu    "
   ]
  },
  {
   "cell_type": "code",
   "execution_count": 1,
   "metadata": {},
   "outputs": [],
   "source": [
    "import os, sys, os.path\n",
    "import IPython.display\n",
    "\n",
    "sys.path.append('.')\n",
    "import ISR_blackbox\n",
    "import ipywidgets"
   ]
  },
  {
   "cell_type": "markdown",
   "metadata": {},
   "source": [
    "These next cells create the ipywidgets used in the GUI."
   ]
  },
  {
   "cell_type": "code",
   "execution_count": 2,
   "metadata": {},
   "outputs": [],
   "source": [
    "title_label = ipywidgets.HTML(value='<h3><center>Blackbox Performance Predictor for a new ISR (single-mode)</center></h3>')\n",
    "freq_set = ipywidgets.BoundedFloatText(min=40.0E6, max=4000.0E6, value=440.0E6, description='Freq (Hz):')\n",
    "aperture_set = ipywidgets.BoundedFloatText(min=1.0, max=1000000.0, value=1000.0, description='Size (m^2):')\n",
    "latitude_set = ipywidgets.BoundedFloatText(min=-90.0, max=90.0, value=0.0, description='Latitude:')\n",
    "longitude_set = ipywidgets.BoundedFloatText(min=-180.0, max=1800.0, value=0.0, description='Longitude:')\n",
    "power_set = ipywidgets.BoundedFloatText(min=1.0, max=1000.0E6, value=1.0E6, description='Power (W):')\n",
    "pulse_set = ipywidgets.BoundedFloatText(min=1.0E-6, max=1.0E-1, value=400.0E-6, description='Pulse (sec):')\n",
    "duty_cycle_set = ipywidgets.BoundedFloatText(min=0.001, max=1, value=0.05, description='Duty cyc (0-1):')"
   ]
  },
  {
   "cell_type": "code",
   "execution_count": 3,
   "metadata": {},
   "outputs": [],
   "source": [
    "months_label = ipywidgets.Label(value='Choose start month and day: ')\n",
    "months = range(1,13)\n",
    "dropdown_months = ipywidgets.Dropdown(options=months, description='Month:')"
   ]
  },
  {
   "cell_type": "code",
   "execution_count": 4,
   "metadata": {},
   "outputs": [],
   "source": [
    "days = range(1,32)\n",
    "dropdown_days = ipywidgets.Dropdown(options=days, description='Day:')"
   ]
  },
  {
   "cell_type": "code",
   "execution_count": 5,
   "metadata": {},
   "outputs": [],
   "source": [
    "hours_label = ipywidgets.Label(value='Choose UT start hour and hours to run: ')\n",
    "hours = range(24)\n",
    "dropdown_hours = ipywidgets.Dropdown(options=hours, description='Start hour:')\n",
    "run_hours = [3,6,12,24]\n",
    "dropdown_run = ipywidgets.Dropdown(options=run_hours, description='Run hours:')"
   ]
  },
  {
   "cell_type": "code",
   "execution_count": 6,
   "metadata": {},
   "outputs": [],
   "source": [
    "elevation_set = ipywidgets.BoundedFloatText(min=0, max=90, value=90, step=1, description='Elevation:')\n",
    "integration_label = ipywidgets.Label(value='Integration time: ')\n",
    "integration_set = ipywidgets.BoundedFloatText(min=0, max=3600, value=30, step=1, description='Seconds:')\n",
    "button = ipywidgets.Button(description='Calculate ISR Performance',\n",
    "                           layout=ipywidgets.Layout(height='auto', width='auto'))"
   ]
  },
  {
   "cell_type": "markdown",
   "metadata": {},
   "source": [
    "These next cells create the event handlers for the GUI, and create a function plot_existing_acf that calls the ISR_blackbox module once the inputs are gathered to create a plot."
   ]
  },
  {
   "cell_type": "code",
   "execution_count": 7,
   "metadata": {},
   "outputs": [],
   "source": [
    "plot_output = ipywidgets.Output()"
   ]
  },
  {
   "cell_type": "code",
   "execution_count": 8,
   "metadata": {},
   "outputs": [],
   "source": [
    "def plot_new_acf(freq, aperture, lat, lon, txp, pl,\n",
    "                 start_month, start_day, start_hour, total_hours, el, \n",
    "                 integration_seconds, ipp):\n",
    "    plot_output.clear_output()\n",
    "    with plot_output:\n",
    "        newISR = ISR_blackbox.ISR_Blackbox_Service()\n",
    "        newISR.plotAcfErrRatioVirtualISR(freq, aperture, lat, lon, txp, pl,\n",
    "                                         start_month, start_day, start_hour, total_hours, el, \n",
    "                                         integration_seconds, ipp)"
   ]
  },
  {
   "cell_type": "code",
   "execution_count": 9,
   "metadata": {},
   "outputs": [],
   "source": [
    "def button_eventhandler(obj):\n",
    "    freq = freq_set.value\n",
    "    aperture = aperture_set.value\n",
    "    lat = latitude_set.value\n",
    "    lon = longitude_set.value\n",
    "    txp = power_set.value\n",
    "    pl = pulse_set.value\n",
    "    start_month = int(dropdown_months.value)\n",
    "    start_day = int(dropdown_days.value)\n",
    "    start_hour = int(dropdown_hours.value)\n",
    "    total_hours = int(dropdown_run.value)\n",
    "    el = int(elevation_set.value)\n",
    "    integration_seconds = int(integration_set.value)\n",
    "    ipp = pl / duty_cycle_set.value\n",
    "    plot_new_acf(freq, aperture, lat, lon, txp, pl,\n",
    "                 start_month, start_day, start_hour, total_hours, el,\n",
    "                 integration_seconds, ipp)\n",
    "    \n",
    "button.on_click(button_eventhandler)"
   ]
  },
  {
   "cell_type": "code",
   "execution_count": 10,
   "metadata": {},
   "outputs": [],
   "source": [
    "row21_widgets = ipywidgets.HBox([dropdown_months, dropdown_days])\n",
    "row31_widgets = ipywidgets.HBox([dropdown_hours, dropdown_run])\n",
    "row41_widgets = ipywidgets.HBox([integration_label, integration_set])"
   ]
  },
  {
   "cell_type": "markdown",
   "metadata": {},
   "source": [
    "Finally, display the GUI:"
   ]
  },
  {
   "cell_type": "code",
   "execution_count": 11,
   "metadata": {},
   "outputs": [
    {
     "data": {
      "application/vnd.jupyter.widget-view+json": {
       "model_id": "0b3f175d37de49479c4cbe8c49cdcd45",
       "version_major": 2,
       "version_minor": 0
      },
      "text/plain": [
       "GridspecLayout(children=(HTML(value='<h3><center>Blackbox Performance Predictor for a new ISR (single-mode)</c…"
      ]
     },
     "metadata": {},
     "output_type": "display_data"
    }
   ],
   "source": [
    "grid = ipywidgets.GridspecLayout(16,2)\n",
    "grid[0,:] = title_label\n",
    "grid[1,0] = freq_set\n",
    "grid[1,1] = aperture_set\n",
    "grid[2,0] = latitude_set\n",
    "grid[2,1] = longitude_set\n",
    "grid[3,0] = power_set\n",
    "grid[3,1] = pulse_set\n",
    "grid[4,0] = months_label\n",
    "grid[4,1] = row21_widgets\n",
    "grid[5,0] = hours_label\n",
    "grid[5,1] = row31_widgets\n",
    "grid[6,0] = elevation_set\n",
    "grid[6,1] = row41_widgets\n",
    "grid[7,0] = duty_cycle_set\n",
    "grid[8,:] = button\n",
    "grid[9:15,:] = plot_output\n",
    "grid"
   ]
  },
  {
   "cell_type": "code",
   "execution_count": null,
   "metadata": {},
   "outputs": [],
   "source": []
  }
 ],
 "metadata": {
  "kernelspec": {
   "display_name": "Python 3",
   "language": "python",
   "name": "python3"
  },
  "language_info": {
   "codemirror_mode": {
    "name": "ipython",
    "version": 3
   },
   "file_extension": ".py",
   "mimetype": "text/x-python",
   "name": "python",
   "nbconvert_exporter": "python",
   "pygments_lexer": "ipython3",
   "version": "3.8.10"
  }
 },
 "nbformat": 4,
 "nbformat_minor": 4
}
